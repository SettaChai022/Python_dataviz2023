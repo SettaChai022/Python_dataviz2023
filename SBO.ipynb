{
  "nbformat": 4,
  "nbformat_minor": 0,
  "metadata": {
    "colab": {
      "provenance": [],
      "mount_file_id": "1BwhUivQQp9eQ8Uji0W1btschQVA8-yL-",
      "authorship_tag": "ABX9TyPNHbO7V1hxKW224SAIjxAZ",
      "include_colab_link": true
    },
    "kernelspec": {
      "name": "python3",
      "display_name": "Python 3"
    },
    "language_info": {
      "name": "python"
    }
  },
  "cells": [
    {
      "cell_type": "markdown",
      "metadata": {
        "id": "view-in-github",
        "colab_type": "text"
      },
      "source": [
        "<a href=\"https://colab.research.google.com/github/SettaChai022/Python_dataviz2023/blob/main/SBO.ipynb\" target=\"_parent\"><img src=\"https://colab.research.google.com/assets/colab-badge.svg\" alt=\"Open In Colab\"/></a>"
      ]
    },
    {
      "cell_type": "code",
      "execution_count": null,
      "metadata": {
        "id": "QJvwYYDVf3oL"
      },
      "outputs": [],
      "source": []
    },
    {
      "cell_type": "code",
      "source": [
        "import pandas as pd"
      ],
      "metadata": {
        "id": "V84SxD3ef9Yz"
      },
      "execution_count": 1,
      "outputs": []
    },
    {
      "cell_type": "code",
      "source": [
        "df = pd.read_excel('/content/drive/MyDrive/งาน/CFR - Pre Non Sales 12 Aug 2024 9826547.xlsx')\n",
        "df.head()"
      ],
      "metadata": {
        "colab": {
          "base_uri": "https://localhost:8080/",
          "height": 206
        },
        "id": "Tbb5mFdVgDta",
        "outputId": "bd1892c6-e147-4340-ebd7-72968c151f77"
      },
      "execution_count": 13,
      "outputs": [
        {
          "output_type": "execute_result",
          "data": {
            "text/plain": [
              "   LOC                 STORE_NAME FORMAT GROUP_NAME           ITEM  \\\n",
              "0  127         TMC HATYAI CPN_127   Tops    Cooking  8851046013231   \n",
              "1  183           TMR LOPBURI _183   Tops    Cooking  8851046013231   \n",
              "2  182  TMS THE CHILL PATTAYA_182   Tops    Cooking  8851046018038   \n",
              "3   64      TMS BUDDHAMONTHON_064   Tops    Cooking  8851046018038   \n",
              "4   63         TMS TALINGCHAN_063   Tops    Cooking  8851046018021   \n",
              "\n",
              "                                  ITEM_DESC  Store Stock (pcs)  \\\n",
              "0                  สุรินีน้ำมันรำข้าว 1ลิตร                  4   \n",
              "1                  สุรินีน้ำมันรำข้าว 1ลิตร                  7   \n",
              "2   สุรินีน้ำมันรำข้าวคราฟไรซ์แบรนออย 1ลิตร                  8   \n",
              "3   สุรินีน้ำมันรำข้าวคราฟไรซ์แบรนออย 1ลิตร                  4   \n",
              "4  สุรินีน้ำมันรำข้าวคราฟไรซ์แบรนออย 700มล.                  5   \n",
              "\n",
              "   LAST_RECEIVED_DATE  LAST_SOLD_DATE  PRE_NONSALE_DAY  SUPPLIER  \\\n",
              "0            20231021      20240704.0               32   9826547   \n",
              "1            20230529      20240712.0               24   9826547   \n",
              "2            20240323      20240714.0               22   9826547   \n",
              "3            20240616      20240720.0               16   9826547   \n",
              "4            20230320      20240719.0               17   9826547   \n",
              "\n",
              "                   SUP_NAME  \n",
              "0  น้ำมันรำข้าวสุรินทร์ บจ.  \n",
              "1  น้ำมันรำข้าวสุรินทร์ บจ.  \n",
              "2  น้ำมันรำข้าวสุรินทร์ บจ.  \n",
              "3  น้ำมันรำข้าวสุรินทร์ บจ.  \n",
              "4  น้ำมันรำข้าวสุรินทร์ บจ.  "
            ],
            "text/html": [
              "\n",
              "  <div id=\"df-7abaab90-35cf-4937-921d-406557d80401\" class=\"colab-df-container\">\n",
              "    <div>\n",
              "<style scoped>\n",
              "    .dataframe tbody tr th:only-of-type {\n",
              "        vertical-align: middle;\n",
              "    }\n",
              "\n",
              "    .dataframe tbody tr th {\n",
              "        vertical-align: top;\n",
              "    }\n",
              "\n",
              "    .dataframe thead th {\n",
              "        text-align: right;\n",
              "    }\n",
              "</style>\n",
              "<table border=\"1\" class=\"dataframe\">\n",
              "  <thead>\n",
              "    <tr style=\"text-align: right;\">\n",
              "      <th></th>\n",
              "      <th>LOC</th>\n",
              "      <th>STORE_NAME</th>\n",
              "      <th>FORMAT</th>\n",
              "      <th>GROUP_NAME</th>\n",
              "      <th>ITEM</th>\n",
              "      <th>ITEM_DESC</th>\n",
              "      <th>Store Stock (pcs)</th>\n",
              "      <th>LAST_RECEIVED_DATE</th>\n",
              "      <th>LAST_SOLD_DATE</th>\n",
              "      <th>PRE_NONSALE_DAY</th>\n",
              "      <th>SUPPLIER</th>\n",
              "      <th>SUP_NAME</th>\n",
              "    </tr>\n",
              "  </thead>\n",
              "  <tbody>\n",
              "    <tr>\n",
              "      <th>0</th>\n",
              "      <td>127</td>\n",
              "      <td>TMC HATYAI CPN_127</td>\n",
              "      <td>Tops</td>\n",
              "      <td>Cooking</td>\n",
              "      <td>8851046013231</td>\n",
              "      <td>สุรินีน้ำมันรำข้าว 1ลิตร</td>\n",
              "      <td>4</td>\n",
              "      <td>20231021</td>\n",
              "      <td>20240704.0</td>\n",
              "      <td>32</td>\n",
              "      <td>9826547</td>\n",
              "      <td>น้ำมันรำข้าวสุรินทร์ บจ.</td>\n",
              "    </tr>\n",
              "    <tr>\n",
              "      <th>1</th>\n",
              "      <td>183</td>\n",
              "      <td>TMR LOPBURI _183</td>\n",
              "      <td>Tops</td>\n",
              "      <td>Cooking</td>\n",
              "      <td>8851046013231</td>\n",
              "      <td>สุรินีน้ำมันรำข้าว 1ลิตร</td>\n",
              "      <td>7</td>\n",
              "      <td>20230529</td>\n",
              "      <td>20240712.0</td>\n",
              "      <td>24</td>\n",
              "      <td>9826547</td>\n",
              "      <td>น้ำมันรำข้าวสุรินทร์ บจ.</td>\n",
              "    </tr>\n",
              "    <tr>\n",
              "      <th>2</th>\n",
              "      <td>182</td>\n",
              "      <td>TMS THE CHILL PATTAYA_182</td>\n",
              "      <td>Tops</td>\n",
              "      <td>Cooking</td>\n",
              "      <td>8851046018038</td>\n",
              "      <td>สุรินีน้ำมันรำข้าวคราฟไรซ์แบรนออย 1ลิตร</td>\n",
              "      <td>8</td>\n",
              "      <td>20240323</td>\n",
              "      <td>20240714.0</td>\n",
              "      <td>22</td>\n",
              "      <td>9826547</td>\n",
              "      <td>น้ำมันรำข้าวสุรินทร์ บจ.</td>\n",
              "    </tr>\n",
              "    <tr>\n",
              "      <th>3</th>\n",
              "      <td>64</td>\n",
              "      <td>TMS BUDDHAMONTHON_064</td>\n",
              "      <td>Tops</td>\n",
              "      <td>Cooking</td>\n",
              "      <td>8851046018038</td>\n",
              "      <td>สุรินีน้ำมันรำข้าวคราฟไรซ์แบรนออย 1ลิตร</td>\n",
              "      <td>4</td>\n",
              "      <td>20240616</td>\n",
              "      <td>20240720.0</td>\n",
              "      <td>16</td>\n",
              "      <td>9826547</td>\n",
              "      <td>น้ำมันรำข้าวสุรินทร์ บจ.</td>\n",
              "    </tr>\n",
              "    <tr>\n",
              "      <th>4</th>\n",
              "      <td>63</td>\n",
              "      <td>TMS TALINGCHAN_063</td>\n",
              "      <td>Tops</td>\n",
              "      <td>Cooking</td>\n",
              "      <td>8851046018021</td>\n",
              "      <td>สุรินีน้ำมันรำข้าวคราฟไรซ์แบรนออย 700มล.</td>\n",
              "      <td>5</td>\n",
              "      <td>20230320</td>\n",
              "      <td>20240719.0</td>\n",
              "      <td>17</td>\n",
              "      <td>9826547</td>\n",
              "      <td>น้ำมันรำข้าวสุรินทร์ บจ.</td>\n",
              "    </tr>\n",
              "  </tbody>\n",
              "</table>\n",
              "</div>\n",
              "    <div class=\"colab-df-buttons\">\n",
              "\n",
              "  <div class=\"colab-df-container\">\n",
              "    <button class=\"colab-df-convert\" onclick=\"convertToInteractive('df-7abaab90-35cf-4937-921d-406557d80401')\"\n",
              "            title=\"Convert this dataframe to an interactive table.\"\n",
              "            style=\"display:none;\">\n",
              "\n",
              "  <svg xmlns=\"http://www.w3.org/2000/svg\" height=\"24px\" viewBox=\"0 -960 960 960\">\n",
              "    <path d=\"M120-120v-720h720v720H120Zm60-500h600v-160H180v160Zm220 220h160v-160H400v160Zm0 220h160v-160H400v160ZM180-400h160v-160H180v160Zm440 0h160v-160H620v160ZM180-180h160v-160H180v160Zm440 0h160v-160H620v160Z\"/>\n",
              "  </svg>\n",
              "    </button>\n",
              "\n",
              "  <style>\n",
              "    .colab-df-container {\n",
              "      display:flex;\n",
              "      gap: 12px;\n",
              "    }\n",
              "\n",
              "    .colab-df-convert {\n",
              "      background-color: #E8F0FE;\n",
              "      border: none;\n",
              "      border-radius: 50%;\n",
              "      cursor: pointer;\n",
              "      display: none;\n",
              "      fill: #1967D2;\n",
              "      height: 32px;\n",
              "      padding: 0 0 0 0;\n",
              "      width: 32px;\n",
              "    }\n",
              "\n",
              "    .colab-df-convert:hover {\n",
              "      background-color: #E2EBFA;\n",
              "      box-shadow: 0px 1px 2px rgba(60, 64, 67, 0.3), 0px 1px 3px 1px rgba(60, 64, 67, 0.15);\n",
              "      fill: #174EA6;\n",
              "    }\n",
              "\n",
              "    .colab-df-buttons div {\n",
              "      margin-bottom: 4px;\n",
              "    }\n",
              "\n",
              "    [theme=dark] .colab-df-convert {\n",
              "      background-color: #3B4455;\n",
              "      fill: #D2E3FC;\n",
              "    }\n",
              "\n",
              "    [theme=dark] .colab-df-convert:hover {\n",
              "      background-color: #434B5C;\n",
              "      box-shadow: 0px 1px 3px 1px rgba(0, 0, 0, 0.15);\n",
              "      filter: drop-shadow(0px 1px 2px rgba(0, 0, 0, 0.3));\n",
              "      fill: #FFFFFF;\n",
              "    }\n",
              "  </style>\n",
              "\n",
              "    <script>\n",
              "      const buttonEl =\n",
              "        document.querySelector('#df-7abaab90-35cf-4937-921d-406557d80401 button.colab-df-convert');\n",
              "      buttonEl.style.display =\n",
              "        google.colab.kernel.accessAllowed ? 'block' : 'none';\n",
              "\n",
              "      async function convertToInteractive(key) {\n",
              "        const element = document.querySelector('#df-7abaab90-35cf-4937-921d-406557d80401');\n",
              "        const dataTable =\n",
              "          await google.colab.kernel.invokeFunction('convertToInteractive',\n",
              "                                                    [key], {});\n",
              "        if (!dataTable) return;\n",
              "\n",
              "        const docLinkHtml = 'Like what you see? Visit the ' +\n",
              "          '<a target=\"_blank\" href=https://colab.research.google.com/notebooks/data_table.ipynb>data table notebook</a>'\n",
              "          + ' to learn more about interactive tables.';\n",
              "        element.innerHTML = '';\n",
              "        dataTable['output_type'] = 'display_data';\n",
              "        await google.colab.output.renderOutput(dataTable, element);\n",
              "        const docLink = document.createElement('div');\n",
              "        docLink.innerHTML = docLinkHtml;\n",
              "        element.appendChild(docLink);\n",
              "      }\n",
              "    </script>\n",
              "  </div>\n",
              "\n",
              "\n",
              "<div id=\"df-1a47f07f-5bbf-4f00-bf7a-c33fa92eb1ca\">\n",
              "  <button class=\"colab-df-quickchart\" onclick=\"quickchart('df-1a47f07f-5bbf-4f00-bf7a-c33fa92eb1ca')\"\n",
              "            title=\"Suggest charts\"\n",
              "            style=\"display:none;\">\n",
              "\n",
              "<svg xmlns=\"http://www.w3.org/2000/svg\" height=\"24px\"viewBox=\"0 0 24 24\"\n",
              "     width=\"24px\">\n",
              "    <g>\n",
              "        <path d=\"M19 3H5c-1.1 0-2 .9-2 2v14c0 1.1.9 2 2 2h14c1.1 0 2-.9 2-2V5c0-1.1-.9-2-2-2zM9 17H7v-7h2v7zm4 0h-2V7h2v10zm4 0h-2v-4h2v4z\"/>\n",
              "    </g>\n",
              "</svg>\n",
              "  </button>\n",
              "\n",
              "<style>\n",
              "  .colab-df-quickchart {\n",
              "      --bg-color: #E8F0FE;\n",
              "      --fill-color: #1967D2;\n",
              "      --hover-bg-color: #E2EBFA;\n",
              "      --hover-fill-color: #174EA6;\n",
              "      --disabled-fill-color: #AAA;\n",
              "      --disabled-bg-color: #DDD;\n",
              "  }\n",
              "\n",
              "  [theme=dark] .colab-df-quickchart {\n",
              "      --bg-color: #3B4455;\n",
              "      --fill-color: #D2E3FC;\n",
              "      --hover-bg-color: #434B5C;\n",
              "      --hover-fill-color: #FFFFFF;\n",
              "      --disabled-bg-color: #3B4455;\n",
              "      --disabled-fill-color: #666;\n",
              "  }\n",
              "\n",
              "  .colab-df-quickchart {\n",
              "    background-color: var(--bg-color);\n",
              "    border: none;\n",
              "    border-radius: 50%;\n",
              "    cursor: pointer;\n",
              "    display: none;\n",
              "    fill: var(--fill-color);\n",
              "    height: 32px;\n",
              "    padding: 0;\n",
              "    width: 32px;\n",
              "  }\n",
              "\n",
              "  .colab-df-quickchart:hover {\n",
              "    background-color: var(--hover-bg-color);\n",
              "    box-shadow: 0 1px 2px rgba(60, 64, 67, 0.3), 0 1px 3px 1px rgba(60, 64, 67, 0.15);\n",
              "    fill: var(--button-hover-fill-color);\n",
              "  }\n",
              "\n",
              "  .colab-df-quickchart-complete:disabled,\n",
              "  .colab-df-quickchart-complete:disabled:hover {\n",
              "    background-color: var(--disabled-bg-color);\n",
              "    fill: var(--disabled-fill-color);\n",
              "    box-shadow: none;\n",
              "  }\n",
              "\n",
              "  .colab-df-spinner {\n",
              "    border: 2px solid var(--fill-color);\n",
              "    border-color: transparent;\n",
              "    border-bottom-color: var(--fill-color);\n",
              "    animation:\n",
              "      spin 1s steps(1) infinite;\n",
              "  }\n",
              "\n",
              "  @keyframes spin {\n",
              "    0% {\n",
              "      border-color: transparent;\n",
              "      border-bottom-color: var(--fill-color);\n",
              "      border-left-color: var(--fill-color);\n",
              "    }\n",
              "    20% {\n",
              "      border-color: transparent;\n",
              "      border-left-color: var(--fill-color);\n",
              "      border-top-color: var(--fill-color);\n",
              "    }\n",
              "    30% {\n",
              "      border-color: transparent;\n",
              "      border-left-color: var(--fill-color);\n",
              "      border-top-color: var(--fill-color);\n",
              "      border-right-color: var(--fill-color);\n",
              "    }\n",
              "    40% {\n",
              "      border-color: transparent;\n",
              "      border-right-color: var(--fill-color);\n",
              "      border-top-color: var(--fill-color);\n",
              "    }\n",
              "    60% {\n",
              "      border-color: transparent;\n",
              "      border-right-color: var(--fill-color);\n",
              "    }\n",
              "    80% {\n",
              "      border-color: transparent;\n",
              "      border-right-color: var(--fill-color);\n",
              "      border-bottom-color: var(--fill-color);\n",
              "    }\n",
              "    90% {\n",
              "      border-color: transparent;\n",
              "      border-bottom-color: var(--fill-color);\n",
              "    }\n",
              "  }\n",
              "</style>\n",
              "\n",
              "  <script>\n",
              "    async function quickchart(key) {\n",
              "      const quickchartButtonEl =\n",
              "        document.querySelector('#' + key + ' button');\n",
              "      quickchartButtonEl.disabled = true;  // To prevent multiple clicks.\n",
              "      quickchartButtonEl.classList.add('colab-df-spinner');\n",
              "      try {\n",
              "        const charts = await google.colab.kernel.invokeFunction(\n",
              "            'suggestCharts', [key], {});\n",
              "      } catch (error) {\n",
              "        console.error('Error during call to suggestCharts:', error);\n",
              "      }\n",
              "      quickchartButtonEl.classList.remove('colab-df-spinner');\n",
              "      quickchartButtonEl.classList.add('colab-df-quickchart-complete');\n",
              "    }\n",
              "    (() => {\n",
              "      let quickchartButtonEl =\n",
              "        document.querySelector('#df-1a47f07f-5bbf-4f00-bf7a-c33fa92eb1ca button');\n",
              "      quickchartButtonEl.style.display =\n",
              "        google.colab.kernel.accessAllowed ? 'block' : 'none';\n",
              "    })();\n",
              "  </script>\n",
              "</div>\n",
              "\n",
              "    </div>\n",
              "  </div>\n"
            ],
            "application/vnd.google.colaboratory.intrinsic+json": {
              "type": "dataframe",
              "variable_name": "df",
              "summary": "{\n  \"name\": \"df\",\n  \"rows\": 135,\n  \"fields\": [\n    {\n      \"column\": \"LOC\",\n      \"properties\": {\n        \"dtype\": \"number\",\n        \"std\": 172,\n        \"min\": 4,\n        \"max\": 567,\n        \"num_unique_values\": 105,\n        \"samples\": [\n          94,\n          448,\n          445\n        ],\n        \"semantic_type\": \"\",\n        \"description\": \"\"\n      }\n    },\n    {\n      \"column\": \"STORE_NAME\",\n      \"properties\": {\n        \"dtype\": \"string\",\n        \"num_unique_values\": 105,\n        \"samples\": [\n          \"TMS PATTAYA SOUTH TUKCOM_094\",\n          \"TMS MAKET PLACE DUSIT_448\",\n          \"TMS AMPHOE PHON KHONKAEN_445\"\n        ],\n        \"semantic_type\": \"\",\n        \"description\": \"\"\n      }\n    },\n    {\n      \"column\": \"FORMAT\",\n      \"properties\": {\n        \"dtype\": \"category\",\n        \"num_unique_values\": 5,\n        \"samples\": [\n          \"Food Hall\",\n          \"ONLINE\",\n          \"Tops Green\"\n        ],\n        \"semantic_type\": \"\",\n        \"description\": \"\"\n      }\n    },\n    {\n      \"column\": \"GROUP_NAME\",\n      \"properties\": {\n        \"dtype\": \"category\",\n        \"num_unique_values\": 1,\n        \"samples\": [\n          \"Cooking\"\n        ],\n        \"semantic_type\": \"\",\n        \"description\": \"\"\n      }\n    },\n    {\n      \"column\": \"ITEM\",\n      \"properties\": {\n        \"dtype\": \"number\",\n        \"std\": 2395,\n        \"min\": 8851046013231,\n        \"max\": 8851046018038,\n        \"num_unique_values\": 3,\n        \"samples\": [\n          8851046013231\n        ],\n        \"semantic_type\": \"\",\n        \"description\": \"\"\n      }\n    },\n    {\n      \"column\": \"ITEM_DESC\",\n      \"properties\": {\n        \"dtype\": \"category\",\n        \"num_unique_values\": 3,\n        \"samples\": [\n          \"\\u0e2a\\u0e38\\u0e23\\u0e34\\u0e19\\u0e35\\u0e19\\u0e49\\u0e33\\u0e21\\u0e31\\u0e19\\u0e23\\u0e33\\u0e02\\u0e49\\u0e32\\u0e27 1\\u0e25\\u0e34\\u0e15\\u0e23\"\n        ],\n        \"semantic_type\": \"\",\n        \"description\": \"\"\n      }\n    },\n    {\n      \"column\": \"Store Stock (pcs)\",\n      \"properties\": {\n        \"dtype\": \"number\",\n        \"std\": 5,\n        \"min\": 2,\n        \"max\": 28,\n        \"num_unique_values\": 24,\n        \"samples\": [\n          13\n        ],\n        \"semantic_type\": \"\",\n        \"description\": \"\"\n      }\n    },\n    {\n      \"column\": \"LAST_RECEIVED_DATE\",\n      \"properties\": {\n        \"dtype\": \"number\",\n        \"std\": 5549,\n        \"min\": 20220621,\n        \"max\": 20240728,\n        \"num_unique_values\": 99,\n        \"samples\": [\n          20240130\n        ],\n        \"semantic_type\": \"\",\n        \"description\": \"\"\n      }\n    },\n    {\n      \"column\": \"LAST_SOLD_DATE\",\n      \"properties\": {\n        \"dtype\": \"number\",\n        \"std\": 35.66939593199098,\n        \"min\": 20240609.0,\n        \"max\": 20240721.0,\n        \"num_unique_values\": 32,\n        \"samples\": [\n          20240626.0\n        ],\n        \"semantic_type\": \"\",\n        \"description\": \"\"\n      }\n    },\n    {\n      \"column\": \"PRE_NONSALE_DAY\",\n      \"properties\": {\n        \"dtype\": \"number\",\n        \"std\": 10,\n        \"min\": 15,\n        \"max\": 57,\n        \"num_unique_values\": 33,\n        \"samples\": [\n          30\n        ],\n        \"semantic_type\": \"\",\n        \"description\": \"\"\n      }\n    },\n    {\n      \"column\": \"SUPPLIER\",\n      \"properties\": {\n        \"dtype\": \"number\",\n        \"std\": 0,\n        \"min\": 9826547,\n        \"max\": 9826547,\n        \"num_unique_values\": 1,\n        \"samples\": [\n          9826547\n        ],\n        \"semantic_type\": \"\",\n        \"description\": \"\"\n      }\n    },\n    {\n      \"column\": \"SUP_NAME\",\n      \"properties\": {\n        \"dtype\": \"category\",\n        \"num_unique_values\": 1,\n        \"samples\": [\n          \"\\u0e19\\u0e49\\u0e33\\u0e21\\u0e31\\u0e19\\u0e23\\u0e33\\u0e02\\u0e49\\u0e32\\u0e27\\u0e2a\\u0e38\\u0e23\\u0e34\\u0e19\\u0e17\\u0e23\\u0e4c \\u0e1a\\u0e08.\"\n        ],\n        \"semantic_type\": \"\",\n        \"description\": \"\"\n      }\n    }\n  ]\n}"
            }
          },
          "metadata": {},
          "execution_count": 13
        }
      ]
    },
    {
      "cell_type": "markdown",
      "source": [
        "#25 อันดับสาขาที่มีสินค้าค้ากสต๊อกมากที่สุด"
      ],
      "metadata": {
        "id": "Kb9V0ywA37dq"
      }
    },
    {
      "cell_type": "code",
      "source": [
        "# Group by สาขาและหาผลรวมของสินค้าค้างสต๊อก\n",
        "\n",
        "stock_by_branch = df.groupby('STORE_NAME')['Store Stock (pcs)'].sum().reset_index()\n",
        "print(stock_by_branch)"
      ],
      "metadata": {
        "colab": {
          "base_uri": "https://localhost:8080/"
        },
        "id": "WfCJScB3haoS",
        "outputId": "06a1a416-d432-4a1c-da79-49ce2ae086af"
      },
      "execution_count": 19,
      "outputs": [
        {
          "output_type": "stream",
          "name": "stdout",
          "text": [
            "                          STORE_NAME  Store Stock (pcs)\n",
            "0          FHC CENTRAL WESTVILLE_234                 16\n",
            "1              FHC CENTRAL WORLD_512                 25\n",
            "2                 FHC EAST VILLE_161                 11\n",
            "3            FHC PHUKET FLORESTA_436                 16\n",
            "4            FHC PORTO DE PHUKET_456                 23\n",
            "..                               ...                ...\n",
            "100    TMS TOPS GREEN CHIANGMAI _203                  8\n",
            "101                  TMS UDOMSUK_528                 10\n",
            "102  TMS VILLAGE RANGSIT KLONG 4_460                 11\n",
            "103             TMS ZEER RANGSIT_088                 10\n",
            "104           TOPS ONLINE RAMA 3_432                 24\n",
            "\n",
            "[105 rows x 2 columns]\n"
          ]
        }
      ]
    },
    {
      "cell_type": "code",
      "source": [
        "# เรียงลำดับจากสินค้าค้างสต๊อกมากไปหาน้อย\n",
        "\n",
        "stock_by_branch = stock_by_branch.sort_values(by='Store Stock (pcs)', ascending=False)\n",
        "print(stock_by_branch)"
      ],
      "metadata": {
        "colab": {
          "base_uri": "https://localhost:8080/"
        },
        "id": "ee11VD7UhalK",
        "outputId": "fcaea17f-40d5-4f91-d240-4d1e0dd91af1"
      },
      "execution_count": 32,
      "outputs": [
        {
          "output_type": "stream",
          "name": "stdout",
          "text": [
            "                      STORE_NAME  Store Stock (pcs)\n",
            "87           TMS SATHUPRADIT_219                 46\n",
            "13              TMC MAHACHAI_421                 40\n",
            "89              TMS SINGBURI_437                 39\n",
            "97           TMS THE EXPLACE_196                 38\n",
            "51  TMS AMPHOE PHON KHONKAEN_445                 34\n",
            "..                           ...                ...\n",
            "54         TMS BUDDHAMONTHON_064                  4\n",
            "98      TMS THE NINE TIWANON_466                  4\n",
            "12            TMC HATYAI CPN_127                  4\n",
            "20               TMR AIRPORT_503                  4\n",
            "56           TMS CHIANG RAI _107                  3\n",
            "\n",
            "[105 rows x 2 columns]\n"
          ]
        }
      ]
    },
    {
      "cell_type": "code",
      "source": [
        "top_branch = stock_by_branch.iloc[0]\n",
        "print(f\"สาขาที่มีสินค้าค้างสต๊อกมากที่สุดคือ : {top_branch['STORE_NAME']} with {top_branch['Store Stock (pcs)']} units\")"
      ],
      "metadata": {
        "colab": {
          "base_uri": "https://localhost:8080/"
        },
        "id": "ANilkyElle1g",
        "outputId": "a3fd8f68-dd53-470b-8fbd-7058085a383c"
      },
      "execution_count": 35,
      "outputs": [
        {
          "output_type": "stream",
          "name": "stdout",
          "text": [
            "สาขาที่มีสินค้าค้างสต๊อกมากที่สุดคือ : TMS SATHUPRADIT_219 with 46 units\n"
          ]
        }
      ]
    },
    {
      "cell_type": "code",
      "source": [
        "top_50_branches = stock_by_branch.head(50)\n",
        "print(\"50 สาขาที่มีสินค้าค้างสต๊อกมากที่สุด :\")\n",
        "print(top_50_branches)"
      ],
      "metadata": {
        "colab": {
          "base_uri": "https://localhost:8080/"
        },
        "id": "zlBovVFZhafh",
        "outputId": "a4643afd-1b2f-46d6-bc39-9ec22f51a089"
      },
      "execution_count": 73,
      "outputs": [
        {
          "output_type": "stream",
          "name": "stdout",
          "text": [
            "50 สาขาที่มีสินค้าค้างสต๊อกมากที่สุด :\n",
            "                        STORE_NAME  PRE_NONSALE_DAY\n",
            "104         TOPS ONLINE RAMA 3_432              108\n",
            "94      TMS TERMINAL 21 RAMA 3_209               97\n",
            "87             TMS SATHUPRADIT_219               78\n",
            "35            TMR PHITSANULOK _109               76\n",
            "82     TMS RATPATTANA-ROMKLAO _237               65\n",
            "80        TMS POWER BUY HUAHIN_439               65\n",
            "60            TMS CPN SRIRACHA_500               64\n",
            "55             TMS CHAIYAPHUM _447               64\n",
            "70       TMS MAKET PLACE DUSIT_448               61\n",
            "8             FHS SUKHUMVIT 39_208               60\n",
            "77         TMS PHATTHANAKAN 30_206               59\n",
            "52                  TMS BEHIVE_137               55\n",
            "5                   FHC Patong_450               54\n",
            "51    TMS AMPHOE PHON KHONKAEN_445               53\n",
            "89                TMS SINGBURI_437               53\n",
            "10      FINE FOOD SUKHUMVIT 49_215               52\n",
            "85               TMS SAIMAI AVENUE               51\n",
            "4          FHC PORTO DE PHUKET_456               49\n",
            "24         TMR CHALONG PHUKET _230               49\n",
            "13                TMC MAHACHAI_421               47\n",
            "0        FHC CENTRAL WESTVILLE_234               47\n",
            "3          FHC PHUKET FLORESTA_436               45\n",
            "40                   TMR ROIET_144               45\n",
            "9              FHS THE CRYSTAL_525               42\n",
            "17                TMC RAMINTRA_017               41\n",
            "78                  TMS PHAYAO_424               41\n",
            "27                TMR CHONBURI_545               40\n",
            "99   TMS THE WALK RATCHAPHRUEK_463               40\n",
            "42                TMR SRIRACHA_029               39\n",
            "50              TMS ALL SEASON_052               39\n",
            "100  TMS TOPS GREEN CHIANGMAI _203               39\n",
            "56             TMS CHIANG RAI _107               39\n",
            "83                     TMS RCA_020               38\n",
            "47                   TMR TRANG_567               37\n",
            "63   TMS HAPPY AVENUE DONMUANG_433               37\n",
            "69       TMS KRUNGTHEP KREETHA_469               37\n",
            "86            TMS SAINT LOUISE_090               37\n",
            "1            FHC CENTRAL WORLD_512               37\n",
            "74          TMS NIRVANA PORCH _240               36\n",
            "14            TMC NAKHON SAWAN_238               36\n",
            "88                   TMS SILOM_011               35\n",
            "38                TMR RAYONG 2_148               35\n",
            "53       TMS BELLE GRAND RAMA9_464               35\n",
            "90            TMS SUKHAPIBAL 3_047               34\n",
            "65       TMS INDEX CHAIYAPRUEK_449               34\n",
            "72        TMS NAKNIWAT LADPRAO_218               34\n",
            "43               TMR SRISAMAN _163               33\n",
            "75                 TMS NONGHAN_391               33\n",
            "2               FHC EAST VILLE_161               33\n",
            "67               TMS JAS KUBON_202               32\n"
          ]
        }
      ]
    },
    {
      "cell_type": "markdown",
      "source": [
        "#สินค้าที่ขายดีและสินค้าที่ขายไม่ดีของแต่ละสาขา"
      ],
      "metadata": {
        "id": "WBNazHXD4FpQ"
      }
    },
    {
      "cell_type": "code",
      "source": [
        "# Group by สาขาและสินค้า แล้วหาผลรวมของจำนวนสินค้าที่เหลือในสต๊อก\n",
        "stock_by_branch_product = df.groupby(['STORE_NAME','ITEM_DESC'])['Store Stock (pcs)'].sum().reset_index()\n"
      ],
      "metadata": {
        "id": "3BGMYCDyhaEJ"
      },
      "execution_count": 47,
      "outputs": []
    },
    {
      "cell_type": "code",
      "source": [
        "# หาสินค้าที่เหลือในสต๊อกมากที่สุดในแต่ละสาขา\n",
        "worst_selling_product = stock_by_branch_product.loc[stock_by_branch_product.groupby('STORE_NAME')['Store Stock (pcs)'].idxmax()]"
      ],
      "metadata": {
        "id": "kn2i7o6h4GA4"
      },
      "execution_count": 53,
      "outputs": []
    },
    {
      "cell_type": "code",
      "source": [
        "# หาสินค้าที่เหลือในสต๊อกน้อยที่สุดในแต่ละสาขา\n",
        "best_selling_product = stock_by_branch_product.loc[stock_by_branch_product.groupby('STORE_NAME')['Store Stock (pcs)'].idxmin()]"
      ],
      "metadata": {
        "id": "-Dm2vd-B4GkQ"
      },
      "execution_count": 54,
      "outputs": []
    },
    {
      "cell_type": "code",
      "source": [
        "print(\"สินค้าที่ขายไม่ดีในแต่ละสาขา (สินค้าที่เหลือในสต๊อกมากที่สุด) :\")\n",
        "print(worst_selling_product)"
      ],
      "metadata": {
        "colab": {
          "base_uri": "https://localhost:8080/"
        },
        "id": "KWzy87H74GXw",
        "outputId": "acbdc85c-3bf8-41a0-f643-af61748cf570"
      },
      "execution_count": 55,
      "outputs": [
        {
          "output_type": "stream",
          "name": "stdout",
          "text": [
            "สินค้าที่ขายไม่ดีในแต่ละสาขา (สินค้าที่เหลือในสต๊อกมากที่สุด) :\n",
            "                          STORE_NAME  \\\n",
            "0          FHC CENTRAL WESTVILLE_234   \n",
            "2              FHC CENTRAL WORLD_512   \n",
            "3                 FHC EAST VILLE_161   \n",
            "4            FHC PHUKET FLORESTA_436   \n",
            "6            FHC PORTO DE PHUKET_456   \n",
            "..                               ...   \n",
            "129    TMS TOPS GREEN CHIANGMAI _203   \n",
            "130                  TMS UDOMSUK_528   \n",
            "131  TMS VILLAGE RANGSIT KLONG 4_460   \n",
            "132             TMS ZEER RANGSIT_088   \n",
            "134           TOPS ONLINE RAMA 3_432   \n",
            "\n",
            "                                    ITEM_DESC  Store Stock (pcs)  \n",
            "0                    สุรินีน้ำมันรำข้าว 1ลิตร                 16  \n",
            "2     สุรินีน้ำมันรำข้าวคราฟไรซ์แบรนออย 1ลิตร                 13  \n",
            "3                    สุรินีน้ำมันรำข้าว 1ลิตร                 11  \n",
            "4                    สุรินีน้ำมันรำข้าว 1ลิตร                  9  \n",
            "6                    สุรินีน้ำมันรำข้าว 1ลิตร                 12  \n",
            "..                                        ...                ...  \n",
            "129  สุรินีน้ำมันรำข้าวคราฟไรซ์แบรนออย 700มล.                  8  \n",
            "130                  สุรินีน้ำมันรำข้าว 1ลิตร                 10  \n",
            "131                  สุรินีน้ำมันรำข้าว 1ลิตร                 11  \n",
            "132  สุรินีน้ำมันรำข้าวคราฟไรซ์แบรนออย 700มล.                 10  \n",
            "134   สุรินีน้ำมันรำข้าวคราฟไรซ์แบรนออย 1ลิตร                 14  \n",
            "\n",
            "[105 rows x 3 columns]\n"
          ]
        }
      ]
    },
    {
      "cell_type": "code",
      "source": [
        "print(\"สินค้าที่ขายดีในแต่ละสาขา (สินค้าที่เหลือในสต๊อกน้อยที่สุด) :\")\n",
        "print(best_selling_product)"
      ],
      "metadata": {
        "colab": {
          "base_uri": "https://localhost:8080/"
        },
        "id": "6482qCY19aWf",
        "outputId": "98524eda-a331-4815-b1d8-c0aed8c5265c"
      },
      "execution_count": 56,
      "outputs": [
        {
          "output_type": "stream",
          "name": "stdout",
          "text": [
            "สินค้าที่ขายดีในแต่ละสาขา (สินค้าที่เหลือในสต๊อกน้อยที่สุด) :\n",
            "                          STORE_NAME  \\\n",
            "0          FHC CENTRAL WESTVILLE_234   \n",
            "1              FHC CENTRAL WORLD_512   \n",
            "3                 FHC EAST VILLE_161   \n",
            "5            FHC PHUKET FLORESTA_436   \n",
            "7            FHC PORTO DE PHUKET_456   \n",
            "..                               ...   \n",
            "129    TMS TOPS GREEN CHIANGMAI _203   \n",
            "130                  TMS UDOMSUK_528   \n",
            "131  TMS VILLAGE RANGSIT KLONG 4_460   \n",
            "132             TMS ZEER RANGSIT_088   \n",
            "133           TOPS ONLINE RAMA 3_432   \n",
            "\n",
            "                                    ITEM_DESC  Store Stock (pcs)  \n",
            "0                    สุรินีน้ำมันรำข้าว 1ลิตร                 16  \n",
            "1                    สุรินีน้ำมันรำข้าว 1ลิตร                 12  \n",
            "3                    สุรินีน้ำมันรำข้าว 1ลิตร                 11  \n",
            "5    สุรินีน้ำมันรำข้าวคราฟไรซ์แบรนออย 700มล.                  7  \n",
            "7    สุรินีน้ำมันรำข้าวคราฟไรซ์แบรนออย 700มล.                 11  \n",
            "..                                        ...                ...  \n",
            "129  สุรินีน้ำมันรำข้าวคราฟไรซ์แบรนออย 700มล.                  8  \n",
            "130                  สุรินีน้ำมันรำข้าว 1ลิตร                 10  \n",
            "131                  สุรินีน้ำมันรำข้าว 1ลิตร                 11  \n",
            "132  สุรินีน้ำมันรำข้าวคราฟไรซ์แบรนออย 700มล.                 10  \n",
            "133                  สุรินีน้ำมันรำข้าว 1ลิตร                 10  \n",
            "\n",
            "[105 rows x 3 columns]\n"
          ]
        }
      ]
    },
    {
      "cell_type": "markdown",
      "source": [
        "# 50 อันดับสาขาที่สินค้าค้างสต๊อกนานที่สุด"
      ],
      "metadata": {
        "id": "DnwwJ_FDEss7"
      }
    },
    {
      "cell_type": "code",
      "source": [
        "# Group by สาขาหาผลรวมของจำนวนวันที่สินค้าค้างสต๊อก\n",
        "stock_days_by_branch = df.groupby('STORE_NAME')['PRE_NONSALE_DAY'].sum().reset_index()"
      ],
      "metadata": {
        "id": "tOF_66KiEutC"
      },
      "execution_count": 57,
      "outputs": []
    },
    {
      "cell_type": "code",
      "source": [
        "# หาสาขาที่มีจำนวนวันที่สินค้าค้างสต๊อกนานที่สุด\n",
        "branch_with_max_stock_days = stock_days_by_branch.loc[stock_days_by_branch['PRE_NONSALE_DAY'].idxmax()]"
      ],
      "metadata": {
        "id": "opqeQb_5FenL"
      },
      "execution_count": 59,
      "outputs": []
    },
    {
      "cell_type": "code",
      "source": [
        "print(\"สาขาที่มีสินค้าค้างสต๊อกนานที่สุด: \")\n",
        "print(branch_with_max_stock_days)"
      ],
      "metadata": {
        "colab": {
          "base_uri": "https://localhost:8080/"
        },
        "id": "6RwkQ2TPGRPL",
        "outputId": "a7c3da97-08a7-4d64-9b83-93ceb5330a2b"
      },
      "execution_count": 60,
      "outputs": [
        {
          "output_type": "stream",
          "name": "stdout",
          "text": [
            "สาขาที่มีสินค้าค้างสต๊อกนานที่สุด: \n",
            "STORE_NAME         TOPS ONLINE RAMA 3_432\n",
            "PRE_NONSALE_DAY                       108\n",
            "Name: 104, dtype: object\n"
          ]
        }
      ]
    },
    {
      "cell_type": "code",
      "source": [
        "# เรียงลำดับจากจำนวนวันที่สินค้าค้างสต๊อกมากไปหาน้อย\n",
        "\n",
        "stock_days_by_branch = stock_days_by_branch.sort_values(by='PRE_NONSALE_DAY', ascending=False)\n",
        "print(stock_days_by_branch)"
      ],
      "metadata": {
        "colab": {
          "base_uri": "https://localhost:8080/"
        },
        "id": "GmU4JCFsH5O6",
        "outputId": "d2538e1d-b85e-4a5c-bf97-874c4be0f682"
      },
      "execution_count": 66,
      "outputs": [
        {
          "output_type": "stream",
          "name": "stdout",
          "text": [
            "                       STORE_NAME  PRE_NONSALE_DAY\n",
            "104        TOPS ONLINE RAMA 3_432              108\n",
            "94     TMS TERMINAL 21 RAMA 3_209               97\n",
            "87            TMS SATHUPRADIT_219               78\n",
            "35           TMR PHITSANULOK _109               76\n",
            "82    TMS RATPATTANA-ROMKLAO _237               65\n",
            "..                            ...              ...\n",
            "39   TMR ROBINSON  LADKRABANG_455               15\n",
            "98       TMS THE NINE TIWANON_466               15\n",
            "18           TMC RANGSIT CDS _162               15\n",
            "34           TMR NAKORNSRI 2 _167               15\n",
            "79                TMS PHICHIT_423               15\n",
            "\n",
            "[105 rows x 2 columns]\n"
          ]
        }
      ]
    },
    {
      "cell_type": "code",
      "source": [
        "# เลือก 50 อันดับแรก\n",
        "top_50_branches = stock_days_by_branch.head(50)\n",
        "print(\"50 สาขาที่มีสินค้าค้างสต๊อกนานที่สุด:\")\n",
        "print(top_50_branches)"
      ],
      "metadata": {
        "colab": {
          "base_uri": "https://localhost:8080/"
        },
        "id": "9pehxG_aG_zS",
        "outputId": "61c410bd-282f-40fe-f159-90276adcb167"
      },
      "execution_count": 71,
      "outputs": [
        {
          "output_type": "stream",
          "name": "stdout",
          "text": [
            "50 สาขาที่มีสินค้าค้างสต๊อกนานที่สุด:\n",
            "                        STORE_NAME  PRE_NONSALE_DAY\n",
            "104         TOPS ONLINE RAMA 3_432              108\n",
            "94      TMS TERMINAL 21 RAMA 3_209               97\n",
            "87             TMS SATHUPRADIT_219               78\n",
            "35            TMR PHITSANULOK _109               76\n",
            "82     TMS RATPATTANA-ROMKLAO _237               65\n",
            "80        TMS POWER BUY HUAHIN_439               65\n",
            "60            TMS CPN SRIRACHA_500               64\n",
            "55             TMS CHAIYAPHUM _447               64\n",
            "70       TMS MAKET PLACE DUSIT_448               61\n",
            "8             FHS SUKHUMVIT 39_208               60\n",
            "77         TMS PHATTHANAKAN 30_206               59\n",
            "52                  TMS BEHIVE_137               55\n",
            "5                   FHC Patong_450               54\n",
            "51    TMS AMPHOE PHON KHONKAEN_445               53\n",
            "89                TMS SINGBURI_437               53\n",
            "10      FINE FOOD SUKHUMVIT 49_215               52\n",
            "85               TMS SAIMAI AVENUE               51\n",
            "4          FHC PORTO DE PHUKET_456               49\n",
            "24         TMR CHALONG PHUKET _230               49\n",
            "13                TMC MAHACHAI_421               47\n",
            "0        FHC CENTRAL WESTVILLE_234               47\n",
            "3          FHC PHUKET FLORESTA_436               45\n",
            "40                   TMR ROIET_144               45\n",
            "9              FHS THE CRYSTAL_525               42\n",
            "78                  TMS PHAYAO_424               41\n",
            "17                TMC RAMINTRA_017               41\n",
            "99   TMS THE WALK RATCHAPHRUEK_463               40\n",
            "27                TMR CHONBURI_545               40\n",
            "42                TMR SRIRACHA_029               39\n",
            "50              TMS ALL SEASON_052               39\n",
            "100  TMS TOPS GREEN CHIANGMAI _203               39\n",
            "56             TMS CHIANG RAI _107               39\n",
            "83                     TMS RCA_020               38\n",
            "47                   TMR TRANG_567               37\n",
            "63   TMS HAPPY AVENUE DONMUANG_433               37\n",
            "69       TMS KRUNGTHEP KREETHA_469               37\n",
            "86            TMS SAINT LOUISE_090               37\n",
            "1            FHC CENTRAL WORLD_512               37\n",
            "14            TMC NAKHON SAWAN_238               36\n",
            "74          TMS NIRVANA PORCH _240               36\n",
            "88                   TMS SILOM_011               35\n",
            "38                TMR RAYONG 2_148               35\n",
            "53       TMS BELLE GRAND RAMA9_464               35\n",
            "90            TMS SUKHAPIBAL 3_047               34\n",
            "65       TMS INDEX CHAIYAPRUEK_449               34\n",
            "72        TMS NAKNIWAT LADPRAO_218               34\n",
            "43               TMR SRISAMAN _163               33\n",
            "75                 TMS NONGHAN_391               33\n",
            "2               FHC EAST VILLE_161               33\n",
            "11           TMC CHAENGWATTANA_539               32\n"
          ]
        }
      ]
    }
  ]
}